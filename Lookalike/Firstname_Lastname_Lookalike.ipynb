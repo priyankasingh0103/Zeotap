{
 "cells": [
  {
   "cell_type": "code",
   "execution_count": 1,
   "metadata": {},
   "outputs": [],
   "source": [
    "import pandas as pd\n",
    "from sklearn.metrics.pairwise import cosine_similarity\n",
    "from sklearn.preprocessing import StandardScaler\n"
   ]
  },
  {
   "cell_type": "code",
   "execution_count": 2,
   "metadata": {},
   "outputs": [],
   "source": [
    "customers = pd.read_csv('Customers.csv')\n",
    "transactions = pd.read_csv('Transactions.csv')"
   ]
  },
  {
   "cell_type": "code",
   "execution_count": 3,
   "metadata": {},
   "outputs": [],
   "source": [
    "merged = transactions.merge(customers, on='CustomerID', how='left')"
   ]
  },
  {
   "cell_type": "code",
   "execution_count": 4,
   "metadata": {},
   "outputs": [],
   "source": [
    "customer_profiles = merged.groupby('CustomerID').agg({\n",
    "    'TotalValue': 'sum',\n",
    "    'Quantity': 'sum',\n",
    "    'Region': lambda x: x.mode()[0]  # Most frequent region\n",
    "}).reset_index()\n"
   ]
  },
  {
   "cell_type": "code",
   "execution_count": 5,
   "metadata": {},
   "outputs": [],
   "source": [
    "customer_profiles = pd.get_dummies(customer_profiles, columns=['Region'], drop_first=True)"
   ]
  },
  {
   "cell_type": "code",
   "execution_count": 6,
   "metadata": {},
   "outputs": [],
   "source": [
    "scaler = StandardScaler()\n",
    "customer_features = scaler.fit_transform(customer_profiles.drop('CustomerID', axis=1))\n"
   ]
  },
  {
   "cell_type": "code",
   "execution_count": 7,
   "metadata": {},
   "outputs": [],
   "source": [
    "similarity_matrix = cosine_similarity(customer_features)\n",
    "similarity_df = pd.DataFrame(similarity_matrix, index=customer_profiles['CustomerID'], columns=customer_profiles['CustomerID'])\n"
   ]
  },
  {
   "cell_type": "code",
   "execution_count": 8,
   "metadata": {},
   "outputs": [],
   "source": [
    "lookalike_recommendations = {}\n",
    "first_20_customers = customer_profiles['CustomerID'][:20]\n",
    "\n",
    "for cust_id in first_20_customers:\n",
    "    similar_customers = similarity_df[cust_id].sort_values(ascending=False)[1:4]  # Top 3 excluding itself\n",
    "    lookalike_recommendations[cust_id] = list(similar_customers.index), list(similar_customers.values)"
   ]
  },
  {
   "cell_type": "code",
   "execution_count": 9,
   "metadata": {},
   "outputs": [],
   "source": [
    "recommendations_list = []\n",
    "for cust_id, (similar_cust_ids, scores) in lookalike_recommendations.items():\n",
    "    for similar_cust, score in zip(similar_cust_ids, scores):\n",
    "        recommendations_list.append({'cust_id': cust_id, 'similar_cust_id': similar_cust, 'score': score})\n",
    "\n",
    "recommendations_df = pd.DataFrame(recommendations_list)"
   ]
  },
  {
   "cell_type": "code",
   "execution_count": 10,
   "metadata": {},
   "outputs": [
    {
     "name": "stdout",
     "output_type": "stream",
     "text": [
      "Lookalike recommendations saved to Firstname_Lastname_Lookalike.csv.\n"
     ]
    }
   ],
   "source": [
    "recommendations_df.to_csv('Firstname_Lastname_Lookalike.csv', index=False)\n",
    "\n",
    "print(\"Lookalike recommendations saved to Firstname_Lastname_Lookalike.csv.\")\n"
   ]
  }
 ],
 "metadata": {
  "kernelspec": {
   "display_name": "vdart_env",
   "language": "python",
   "name": "python3"
  },
  "language_info": {
   "codemirror_mode": {
    "name": "ipython",
    "version": 3
   },
   "file_extension": ".py",
   "mimetype": "text/x-python",
   "name": "python",
   "nbconvert_exporter": "python",
   "pygments_lexer": "ipython3",
   "version": "3.8.20"
  }
 },
 "nbformat": 4,
 "nbformat_minor": 2
}
